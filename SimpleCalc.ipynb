{
 "cells": [
  {
   "cell_type": "code",
   "execution_count": 7,
   "metadata": {},
   "outputs": [
    {
     "name": "stdout",
     "output_type": "stream",
     "text": [
      "ENter the value of a :3\n",
      "ENter the value of b :4\n",
      "Enter the operator :-\n",
      "The value of a-b is :\n",
      "-1\n"
     ]
    }
   ],
   "source": [
    "a = int(input(\"ENter the value of a :\"))\n",
    "b = int(input(\"ENter the value of b :\"))\n",
    "c = input(\"Enter the operator :\")\n",
    "if(c == '+'):\n",
    "    d=(a+b)\n",
    "    print(\"The value of a+b is :\")\n",
    "    print(d)\n",
    "elif(c == '-'):\n",
    "    d=(a-b)\n",
    "    print(\"The value of a-b is :\")\n",
    "    print(d)\n",
    "elif(c == '/'):\n",
    "    d=(a/b)\n",
    "    print(\"The value of a/b is :\")\n",
    "else:\n",
    "    d=(a*b)\n",
    "    print(\"The value of a*b is :\")"
   ]
  },
  {
   "cell_type": "code",
   "execution_count": null,
   "metadata": {},
   "outputs": [],
   "source": []
  },
  {
   "cell_type": "code",
   "execution_count": null,
   "metadata": {},
   "outputs": [],
   "source": []
  },
  {
   "cell_type": "code",
   "execution_count": null,
   "metadata": {},
   "outputs": [],
   "source": []
  },
  {
   "cell_type": "code",
   "execution_count": null,
   "metadata": {},
   "outputs": [],
   "source": []
  }
 ],
 "metadata": {
  "kernelspec": {
   "display_name": "Python 3",
   "language": "python",
   "name": "python3"
  },
  "language_info": {
   "codemirror_mode": {
    "name": "ipython",
    "version": 3
   },
   "file_extension": ".py",
   "mimetype": "text/x-python",
   "name": "python",
   "nbconvert_exporter": "python",
   "pygments_lexer": "ipython3",
   "version": "3.7.4"
  }
 },
 "nbformat": 4,
 "nbformat_minor": 2
}
